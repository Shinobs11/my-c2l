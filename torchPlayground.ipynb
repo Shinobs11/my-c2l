{
 "cells": [
  {
   "cell_type": "code",
   "execution_count": 35,
   "metadata": {},
   "outputs": [
    {
     "name": "stdout",
     "output_type": "stream",
     "text": [
      "9529\n",
      "12800\n",
      "0.744453125\n"
     ]
    }
   ],
   "source": [
    "import pandas as pd\n",
    "\n",
    "from transformers import BertTokenizerFast\n",
    "\n",
    "\n",
    "\n",
    "df = pd.read_csv(\"datasets/yelp_chi/yelp_chi_train.csv\")\n",
    "\n",
    "count = 0\n",
    "for x in df['content']:\n",
    "  if len(x) > 256:\n",
    "    count+=1\n",
    "    \n",
    "print(count)\n",
    "print(len(df['content']))\n",
    "print(count/len(df['content']))\n",
    "\n",
    "\n",
    "\n",
    "\n"
   ]
  },
  {
   "cell_type": "code",
   "execution_count": 36,
   "metadata": {},
   "outputs": [],
   "source": [
    "tokenizer = BertTokenizerFast.from_pretrained(\"bert-base-uncased\")\n",
    "encodings = tokenizer(df['content'].to_list(), truncation=True)\n",
    "\n"
   ]
  },
  {
   "cell_type": "code",
   "execution_count": 37,
   "metadata": {},
   "outputs": [
    {
     "name": "stdout",
     "output_type": "stream",
     "text": [
      "7061\n",
      "12800\n",
      "0.551640625\n"
     ]
    }
   ],
   "source": [
    "token_count = 0\n",
    "for x in encodings['input_ids']:\n",
    "  if len(x)<=128:\n",
    "    token_count += 1\n",
    "print(token_count)\n",
    "print(len(encodings['input_ids']))\n",
    "print(token_count/len(encodings['input_ids']))"
   ]
  },
  {
   "cell_type": "code",
   "execution_count": 39,
   "metadata": {},
   "outputs": [
    {
     "name": "stdout",
     "output_type": "stream",
     "text": [
      "900\n",
      "400\n",
      "300\n"
     ]
    }
   ],
   "source": [
    "import torch\n",
    "datasets = torch.load(\"datasets/yelp_chi/base/dataset.pt\")\n",
    "print(f\"train_size: {len(datasets['train'])}\")\n",
    "print(f\"valid_size: {len(datasets['valid'])}\")\n",
    "print(len(datasets['test']))"
   ]
  }
 ],
 "metadata": {
  "kernelspec": {
   "display_name": "my-c2l-GA-eQEwD-py3.11",
   "language": "python",
   "name": "python3"
  },
  "language_info": {
   "codemirror_mode": {
    "name": "ipython",
    "version": 3
   },
   "file_extension": ".py",
   "mimetype": "text/x-python",
   "name": "python",
   "nbconvert_exporter": "python",
   "pygments_lexer": "ipython3",
   "version": "3.10.9"
  },
  "orig_nbformat": 4,
  "vscode": {
   "interpreter": {
    "hash": "728870d21f0524f16882758c2f8a11b897e3fd4a14d69d9cab895b40aa759979"
   }
  }
 },
 "nbformat": 4,
 "nbformat_minor": 2
}
