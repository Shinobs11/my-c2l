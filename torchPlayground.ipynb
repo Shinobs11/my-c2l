{
 "cells": [
  {
   "cell_type": "code",
   "execution_count": 11,
   "metadata": {},
   "outputs": [
    {
     "name": "stderr",
     "output_type": "stream",
     "text": [
      "/tmp/ipykernel_56878/329829875.py:17: MatplotlibDeprecationWarning: The seaborn styles shipped by Matplotlib are deprecated since 3.6, as they no longer correspond to the styles shipped by seaborn. However, they will remain available as 'seaborn-v0_8-<style>'. Alternatively, directly use the seaborn API instead.\n",
      "  plt.style.use('seaborn-whitegrid')\n"
     ]
    },
    {
     "data": {
      "text/plain": [
       "(array([34., 19.,  7.,  9.,  8.,  6.,  3.,  1.,  3., 10.]),\n",
       " array([0.00609756, 0.10482114, 0.20354472, 0.30226829, 0.40099187,\n",
       "        0.49971545, 0.59843902, 0.6971626 , 0.79588618, 0.89460976,\n",
       "        0.99333333]),\n",
       " <BarContainer object of 10 artists>)"
      ]
     },
     "execution_count": 11,
     "metadata": {},
     "output_type": "execute_result"
    },
    {
     "data": {
      "image/png": "[encoded data removed]",
      "text/plain": [
       "<Figure size 640x480 with 1 Axes>"
      ]
     },
     "metadata": {},
     "output_type": "display_data"
    }
   ],
   "source": [
    "# import torch\n",
    "\n",
    "\n",
    "# torch.set_printoptions(profile=\"full\", threshold=10000)\n",
    "\n",
    "# r = torch.randint(low=0, high=110000, size=[2])\n",
    "# _, s = torch.max(r, dim=0)\n",
    "\n",
    "\n",
    "\n",
    "# print(r)\n",
    "# print(_)\n",
    "# print(s)\n",
    "%matplotlib inline\n",
    "import matplotlib.pyplot as plt\n",
    "\n",
    "# plt.style.use('seaborn-whitegrid')\n",
    "\n",
    "s = []\n",
    "with open(\"token_idx_flip\", mode='r') as f:\n",
    "  t = f.readlines()\n",
    "\n",
    "  t = [tuple([int(y) for y in x.rstrip().removeprefix(\"(\").removesuffix(\")\").split(', ')]) for x in t]\n",
    "\n",
    "  \n",
    "  for x in t:\n",
    "    s.append(x[0]/x[1])\n",
    "  \n",
    "fig, axs = plt.subplots(1, sharey=True, tight_layout=True)\n",
    "axs.hist(s, bins=10)\n",
    "  "
   ]
  },
  {
   "cell_type": "code",
   "execution_count": null,
   "metadata": {},
   "outputs": [],
   "source": []
  }
 ],
 "metadata": {
  "kernelspec": {
   "display_name": "my-c2l-GA-eQEwD-py3.11",
   "language": "python",
   "name": "python3"
  },
  "language_info": {
   "codemirror_mode": {
    "name": "ipython",
    "version": 3
   },
   "file_extension": ".py",
   "mimetype": "text/x-python",
   "name": "python",
   "nbconvert_exporter": "python",
   "pygments_lexer": "ipython3",
   "version": "3.11.1"
  },
  "orig_nbformat": 4,
  "vscode": {
   "interpreter": {
    "hash": "728870d21f0524f16882758c2f8a11b897e3fd4a14d69d9cab895b40aa759979"
   }
  }
 },
 "nbformat": 4,
 "nbformat_minor": 2
}
